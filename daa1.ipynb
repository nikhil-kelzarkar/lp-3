{
 "cells": [
  {
   "cell_type": "markdown",
   "id": "dbf1626d-df3a-4150-96fc-6a5fd1d97c33",
   "metadata": {},
   "source": [
    "# Non-Recursive Program"
   ]
  },
  {
   "cell_type": "code",
   "execution_count": 5,
   "id": "139d5702-287a-4b3f-bccd-42331c1efe8a",
   "metadata": {},
   "outputs": [
    {
     "name": "stdin",
     "output_type": "stream",
     "text": [
      "Howmanyterms? 7\n"
     ]
    },
    {
     "name": "stdout",
     "output_type": "stream",
     "text": [
      "Fibonaccisequence:\n",
      "0\n",
      "1\n",
      "1\n",
      "2\n",
      "3\n",
      "5\n",
      "8\n"
     ]
    }
   ],
   "source": [
    "nterms=int(input(\"Howmanyterms?\"))\n",
    "#firsttwoterms\n",
    "n1,n2=0,1\n",
    "count=0\n",
    "#checkifthenumberoftermsisvalid\n",
    "if nterms<=0: \n",
    "    print(\"Pleaseenterapositiveinteger\")\n",
    "#ifthereisonlyoneterm,returnn1\n",
    "elif nterms==1:\n",
    "    print(\"Fibonacci sequence upto\",nterms,\":\") \n",
    "    print(n1)\n",
    "#generatefibonaccisequence\n",
    "else:\n",
    "    print(\"Fibonaccisequence:\")\n",
    "    while count < nterms:\n",
    "        print(n1)\n",
    "        nth=n1+n2\n",
    "        n1 = n2\n",
    "        n2=nth\n",
    "        count+=1"
   ]
  },
  {
   "cell_type": "markdown",
   "id": "4f9592c9-a426-4369-acc6-eb4ef9598c2b",
   "metadata": {},
   "source": [
    "# Recursive Program"
   ]
  },
  {
   "cell_type": "code",
   "execution_count": 6,
   "id": "c3bac234-08a2-4589-ac96-1514e2e62e57",
   "metadata": {},
   "outputs": [
    {
     "name": "stdin",
     "output_type": "stream",
     "text": [
      "Howmanyterms? 7\n"
     ]
    },
    {
     "name": "stdout",
     "output_type": "stream",
     "text": [
      "Fibonaccisequence:\n",
      "0\n",
      "1\n",
      "1\n",
      "2\n",
      "3\n",
      "5\n",
      "8\n"
     ]
    }
   ],
   "source": [
    "def fibonacci(n):\n",
    "    if n<=0:\n",
    "        return[]\n",
    "    elif n==1:\n",
    "        return[0]\n",
    "    elif n==2:\n",
    "        return[0,1]\n",
    "    else:\n",
    "        seq=fibonacci(n-1)\n",
    "        seq.append(seq[-1]+seq[-2])\n",
    "        return seq\n",
    "\n",
    "nterms=int(input(\"Howmanyterms?\"))\n",
    "\n",
    "#checkifthenumberoftermsisvalid\n",
    "if nterms<=0:\n",
    "    print(\"Pleaseenterapositiveinteger\")\n",
    "else:\n",
    "    print(\"Fibonaccisequence:\")\n",
    "    fib_sequence=fibonacci(nterms)\n",
    "    for num in fib_sequence:\n",
    "        print(num)"
   ]
  }
 ],
 "metadata": {
  "kernelspec": {
   "display_name": "Python 3 (ipykernel)",
   "language": "python",
   "name": "python3"
  },
  "language_info": {
   "codemirror_mode": {
    "name": "ipython",
    "version": 3
   },
   "file_extension": ".py",
   "mimetype": "text/x-python",
   "name": "python",
   "nbconvert_exporter": "python",
   "pygments_lexer": "ipython3",
   "version": "3.11.7"
  }
 },
 "nbformat": 4,
 "nbformat_minor": 5
}
