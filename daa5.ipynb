{
 "cells": [
  {
   "cell_type": "code",
   "execution_count": 1,
   "id": "10c1cb24-f3db-409b-bed2-2e94979aaced",
   "metadata": {},
   "outputs": [
    {
     "name": "stdin",
     "output_type": "stream",
     "text": [
      "Enter the number of queens:  8\n"
     ]
    },
    {
     "name": "stdout",
     "output_type": "stream",
     "text": [
      "Initial State:\n",
      "❌ ❌ ❌ ❌ ❌ ❌ ❌ ❌ \n",
      "❌ ❌ ❌ ❌ ❌ ❌ ❌ ❌ \n",
      "❌ ❌ ❌ ❌ ❌ ❌ ❌ ❌ \n",
      "❌ ❌ ❌ ❌ ❌ ❌ ❌ ❌ \n",
      "❌ ❌ ❌ ❌ ❌ ❌ ❌ ❌ \n",
      "❌ ❌ ❌ ❌ ❌ ❌ ❌ ❌ \n",
      "❌ ❌ ❌ ❌ ❌ ❌ ❌ ❌ \n",
      "❌ ❌ ❌ ❌ ❌ ❌ ❌ ❌ \n",
      "\n",
      "Final State:\n",
      "👑 ❌ ❌ ❌ ❌ ❌ ❌ ❌ \n",
      "❌ ❌ ❌ ❌ 👑 ❌ ❌ ❌ \n",
      "❌ ❌ ❌ ❌ ❌ ❌ ❌ 👑 \n",
      "❌ ❌ ❌ ❌ ❌ 👑 ❌ ❌ \n",
      "❌ ❌ 👑 ❌ ❌ ❌ ❌ ❌ \n",
      "❌ ❌ ❌ ❌ ❌ ❌ 👑 ❌ \n",
      "❌ 👑 ❌ ❌ ❌ ❌ ❌ ❌ \n",
      "❌ ❌ ❌ 👑 ❌ ❌ ❌ ❌ \n",
      "\n",
      "Positions of the queens:\n",
      "Queen 1: Row 1, Column 1\n",
      "Queen 2: Row 2, Column 5\n",
      "Queen 3: Row 3, Column 8\n",
      "Queen 4: Row 4, Column 6\n",
      "Queen 5: Row 5, Column 3\n",
      "Queen 6: Row 6, Column 7\n",
      "Queen 7: Row 7, Column 2\n",
      "Queen 8: Row 8, Column 4\n"
     ]
    }
   ],
   "source": [
    "class Queen:\n",
    "    def __init__(self, N):\n",
    "        self.N = N\n",
    "        self.board = [[0] * N for _ in range(N)]\n",
    "\n",
    "    def disp_board(self):\n",
    "        for row in self.board:\n",
    "            for col in row:\n",
    "                if col == 1:\n",
    "                    print(u\"\\U0001F451\", end=' ')  # Queen emoji\n",
    "                else:\n",
    "                    print(u\"\\u274C\", end=' ')  # Cross mark emoji\n",
    "            print(end='\\n')\n",
    "\n",
    "    def is_attack(self, i, j):\n",
    "        for k in range(0, self.N):\n",
    "            if self.board[i][k] == 1 or self.board[k][j] == 1:\n",
    "                return True\n",
    "        for k in range(0, self.N):\n",
    "            for l in range(0, self.N):\n",
    "                if (k + l == i + j) or (k - l == i - j):\n",
    "                    if self.board[k][l] == 1:\n",
    "                        return True\n",
    "        return False\n",
    "\n",
    "    def N_queen(self, n):\n",
    "        if n == 0:\n",
    "            return True\n",
    "\n",
    "        for i in range(0, self.N):\n",
    "            for j in range(0, self.N):\n",
    "                if (not self.is_attack(i, j)) and (self.board[i][j] != 1):\n",
    "                    self.board[i][j] = 1\n",
    "                    if self.N_queen(n - 1):\n",
    "                        return True\n",
    "                    self.board[i][j] = 0\n",
    "        return False\n",
    "\n",
    "    def queen_positions(self):\n",
    "        positions = []\n",
    "        for i in range(self.N):\n",
    "            for j in range(self.N):\n",
    "                if self.board[i][j] == 1:\n",
    "                    positions.append((i, j))\n",
    "        return positions\n",
    "\n",
    "# Input number of queens\n",
    "N = int(input(\"Enter the number of queens: \"))\n",
    "Q = Queen(N)\n",
    "\n",
    "print('Initial State:')\n",
    "Q.disp_board()\n",
    "\n",
    "if Q.N_queen(N):\n",
    "    print('\\nFinal State:')\n",
    "    Q.disp_board()\n",
    "\n",
    "    positions = Q.queen_positions()\n",
    "    print('\\nPositions of the queens:')\n",
    "    for idx, pos in enumerate(positions):\n",
    "        print(f\"Queen {idx + 1}: Row {pos[0] + 1}, Column {pos[1] + 1}\")\n",
    "else:\n",
    "    print(\"No solution exists.\")"
   ]
  },
  {
   "cell_type": "code",
   "execution_count": null,
   "id": "26da6567-ee1d-4cdd-b4a0-76560a625d44",
   "metadata": {},
   "outputs": [],
   "source": []
  }
 ],
 "metadata": {
  "kernelspec": {
   "display_name": "Python 3 (ipykernel)",
   "language": "python",
   "name": "python3"
  },
  "language_info": {
   "codemirror_mode": {
    "name": "ipython",
    "version": 3
   },
   "file_extension": ".py",
   "mimetype": "text/x-python",
   "name": "python",
   "nbconvert_exporter": "python",
   "pygments_lexer": "ipython3",
   "version": "3.11.7"
  }
 },
 "nbformat": 4,
 "nbformat_minor": 5
}
