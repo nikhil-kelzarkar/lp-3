{
 "cells": [
  {
   "cell_type": "markdown",
   "id": "776a9947-d043-4736-85d2-9ff2578ce399",
   "metadata": {},
   "source": [
    "# Design 8-Queens matrix having first Queen placed. Use backtracking to place remaining Queens generate the final 8-queen’s matrix\n",
    "# Define the size of the board N = 8"
   ]
  },
  {
   "cell_type": "code",
   "execution_count": 2,
   "id": "741ca62d-4e77-4bfb-b1aa-7c45eda9a902",
   "metadata": {},
   "outputs": [
    {
     "name": "stdout",
     "output_type": "stream",
     "text": [
      "Solution:\n",
      "0 0 1 0\n",
      "1 0 0 0\n",
      "0 0 0 1\n",
      "0 1 0 0\n",
      "\n"
     ]
    }
   ],
   "source": [
    "# Function to print the board\n",
    "def print_board(board):\n",
    "    for row in board:\n",
    "        print(\" \".join(str(x) for x in row))\n",
    "    print()\n",
    "\n",
    "# Function to check if it's safe to place a Queen at board[row][col]\n",
    "def is_safe(board, row, col):\n",
    "    # Check the row to the left\n",
    "    for i in range(col):\n",
    "        if board[row][i] == 1:\n",
    "            return False\n",
    "\n",
    "    # Check upper diagonal on the left side\n",
    "    for i, j in zip(range(row, -1, -1), range(col, -1, -1)):\n",
    "        if board[i][j] == 1:\n",
    "            return False\n",
    "\n",
    "    # Check lower diagonal on the left side\n",
    "    for i, j in zip(range(row, len(board)), range(col, -1, -1)):\n",
    "        if board[i][j] == 1:\n",
    "            return False\n",
    "\n",
    "    return True\n",
    "\n",
    "# Function to solve the N-Queens problem using backtracking\n",
    "def solve_queens(board, col):\n",
    "    # Base case: if all Queens are placed, return True\n",
    "    if col >= len(board):\n",
    "        return True\n",
    "\n",
    "    # Place Queen in all rows one by one in the current column\n",
    "    for i in range(len(board)):\n",
    "        if is_safe(board, i, col):\n",
    "            # Place the Queen\n",
    "            board[i][col] = 1\n",
    "\n",
    "            # Recur to place the rest of the Queens\n",
    "            if solve_queens(board, col + 1):\n",
    "                return True\n",
    "\n",
    "            # Backtrack if placing Queen doesn't lead to a solution\n",
    "            board[i][col] = 0\n",
    "\n",
    "    return False\n",
    "\n",
    "# Function to solve N-Queens and print all solutions\n",
    "def solve_n_queens(N):\n",
    "    board = [[0 for _ in range(N)] for _ in range(N)]\n",
    "    if solve_queens(board, 0):\n",
    "        print(\"Solution:\")\n",
    "        print_board(board)\n",
    "    else:\n",
    "        print(\"No solution found.\")\n",
    "\n",
    "# Set the value of N\n",
    "N = 4  # You can change this value to solve for different sizes\n",
    "solve_n_queens(N)"
   ]
  },
  {
   "cell_type": "code",
   "execution_count": null,
   "id": "40736edb-6b8d-49e8-9c3f-a7cb10bf1b08",
   "metadata": {},
   "outputs": [],
   "source": []
  }
 ],
 "metadata": {
  "kernelspec": {
   "display_name": "Python 3 (ipykernel)",
   "language": "python",
   "name": "python3"
  },
  "language_info": {
   "codemirror_mode": {
    "name": "ipython",
    "version": 3
   },
   "file_extension": ".py",
   "mimetype": "text/x-python",
   "name": "python",
   "nbconvert_exporter": "python",
   "pygments_lexer": "ipython3",
   "version": "3.11.7"
  }
 },
 "nbformat": 4,
 "nbformat_minor": 5
}
